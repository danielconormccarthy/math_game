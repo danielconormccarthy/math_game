{
  "nbformat": 4,
  "nbformat_minor": 0,
  "metadata": {
    "colab": {
      "provenance": [],
      "include_colab_link": true
    },
    "kernelspec": {
      "name": "python3",
      "display_name": "Python 3"
    },
    "language_info": {
      "name": "python"
    }
  },
  "cells": [
    {
      "cell_type": "markdown",
      "metadata": {
        "id": "view-in-github",
        "colab_type": "text"
      },
      "source": [
        "<a href=\"https://colab.research.google.com/github/danielconormccarthy/first_project/blob/main/Daniel.ipynb\" target=\"_parent\"><img src=\"https://colab.research.google.com/assets/colab-badge.svg\" alt=\"Open In Colab\"/></a>"
      ]
    },
    {
      "cell_type": "markdown",
      "source": [
        "# Daniel Math Game"
      ],
      "metadata": {
        "id": "pZvBlSBgeIb3"
      }
    },
    {
      "cell_type": "code",
      "execution_count": null,
      "metadata": {
        "colab": {
          "base_uri": "https://localhost:8080/"
        },
        "id": "6zyvcTQUdWF-",
        "outputId": "1ae0e901-8f46-4789-9bc6-73705d4a8716"
      },
      "outputs": [
        {
          "output_type": "stream",
          "name": "stdout",
          "text": [
            "Your name: Daniel McCarthy\n",
            "Hi Daniel McCarthy. Welcom to Daniel's math GAME!\n",
            "Do you want to play this game? (Yes/No): yes\n",
            "Question 1: 34 + 66 = 100\n",
            "correct\n",
            "Question 2: 5 x 5 = 25\n",
            "correct\n",
            "Question 3: 90 x 90 = 8100\n",
            "correct\n",
            "Question 4: How many sides on a square: \n",
            "Wrong Answer :(\n",
            "Question 5: How many sides on a circle: \n",
            "Wrong Answer :(\n",
            "Question 6: What is the country closest to Ireand? \n",
            "Wrong Answer :(\n",
            "Question 7: 0.50 ± 0.50 = \n",
            "Wrong Answer :(\n",
            "Question 8: 5 ± 1 = \n",
            "Wrong Answer :(\n",
            "Daniel McCarthy, thank you for Playing Daniel's math GAME.\n",
            "Marks obtained: 33\n",
            "BYE!\n"
          ]
        }
      ],
      "source": [
        "name=input('Your name: ')\n",
        "print(\"Hi \" + name + \". Welcom to Daniel's math GAME!\" )\n",
        "\n",
        "score = 0\n",
        "total_questions = 9\n",
        "\n",
        "answer = input(\"Do you want to play this game? (Yes/No): \")\n",
        "\n",
        "if answer.lower()=='yes':\n",
        "    answer=input('Question 1: 34 + 66 = ')\n",
        "    if answer == '100':\n",
        "        score += 1\n",
        "        # score = score + 1\n",
        "        print('correct')\n",
        "    else:\n",
        "        print('Wrong Answer :(')\n",
        "\n",
        "    answer=input('Question 2: 5 x 5 = ')\n",
        "    if answer == '25':\n",
        "        score += 1\n",
        "        print('correct')\n",
        "    else:\n",
        "        print('Wrong Answer :(')\n",
        "\n",
        "    answer=input('Question 3: 90 x 90 = ')\n",
        "    if answer == '8100':\n",
        "        score += 1\n",
        "        print('correct')\n",
        "    else:\n",
        "        print('Wrong Answer :(')\n",
        "\n",
        "    answer=input('Question 4: How many sides on a square: ')\n",
        "    if answer == \"4\":\n",
        "        score += 1\n",
        "        print('correct')\n",
        "    else:\n",
        "        print('Wrong Answer :(')\n",
        "\n",
        "    answer=input('Question 5: How many sides on a circle: ')\n",
        "    if answer == \"1\":\n",
        "        score += 1\n",
        "        print('correct 😊')\n",
        "    else:\n",
        "        print('Wrong Answer :(')\n",
        "\n",
        "\n",
        "    answer=input(\"Question 6: What is the country closest to Ireand? \")\n",
        "    if answer == \"UK\":\n",
        "        score += 1\n",
        "        print('correct')\n",
        "\n",
        "    elif answer == \"United Kingdom\":\n",
        "        score += 1\n",
        "        print('correct')\n",
        "\n",
        "    elif answer == \"United Kingdom of Great Britain and Northern Ireland\":\n",
        "        score += 1\n",
        "        print('correct')\n",
        "\n",
        "    elif answer == \"Great Britain\":\n",
        "        score += 1\n",
        "        print('correct')\n",
        "    else:\n",
        "        print('Wrong Answer :(')\n",
        "\n",
        "    answer=input('Question 7: 0.50 ± 0.50 = ')\n",
        "    if answer == \"1\" or answer == \"0\":\n",
        "        score += 1\n",
        "        print('correct 😊')\n",
        "    else:\n",
        "        print('Wrong Answer :(')\n",
        "\n",
        "    answer=input('Question 8: 5 ± 1 = ')\n",
        "    if answer == \"6\":\n",
        "        score += 1\n",
        "        print('correct 😊')\n",
        "    elif answer == '4':\n",
        "        score += 1\n",
        "        print('correct 😊')\n",
        "    else:\n",
        "        print('Wrong Answer :(')\n",
        "\n",
        "    print(name + ', thank you for Playing Daniel\\'s math GAME.')\n",
        "    mark=(score/total_questions)*100\n",
        "    print('Marks obtained:', int(mark))\n",
        "print('BYE!')"
      ]
    },
    {
      "cell_type": "code",
      "source": [
        "a = 5\n",
        "b = 2\n",
        "if a == b:\n",
        "  print(\"A and b is the same.\")\n",
        "elif a != b:\n",
        "  if a > b:\n",
        "    print('a is bigger')\n",
        "  else:\n",
        "    print('b is bigger')"
      ],
      "metadata": {
        "colab": {
          "base_uri": "https://localhost:8080/"
        },
        "id": "IA1vXGOTZJsS",
        "outputId": "ced5203d-4907-4f04-d87b-2163cc8e8389"
      },
      "execution_count": null,
      "outputs": [
        {
          "output_type": "stream",
          "name": "stdout",
          "text": [
            "a is bigger\n"
          ]
        }
      ]
    },
    {
      "cell_type": "code",
      "source": [
        "print('hskkkkk \"\"')\n",
        "print(\"hskkkkk ''\")"
      ],
      "metadata": {
        "colab": {
          "base_uri": "https://localhost:8080/"
        },
        "id": "gFtwFAgQw0_Y",
        "outputId": "8ff5ddb7-b561-47b6-d39c-9cd931d5033e"
      },
      "execution_count": null,
      "outputs": [
        {
          "output_type": "stream",
          "name": "stdout",
          "text": [
            "hskkkkk \"\"\n",
            "hskkkkk ''\n"
          ]
        }
      ]
    },
    {
      "cell_type": "code",
      "source": [
        "ll = ['66', '44', '88', '54']\n",
        "for number in ll:\n",
        "  print(int(number)+1)"
      ],
      "metadata": {
        "colab": {
          "base_uri": "https://localhost:8080/"
        },
        "id": "XipBmwlJbJxY",
        "outputId": "6dc02b44-3a30-4513-d60a-06c604081f72"
      },
      "execution_count": null,
      "outputs": [
        {
          "output_type": "stream",
          "name": "stdout",
          "text": [
            "67\n",
            "45\n",
            "89\n",
            "55\n"
          ]
        }
      ]
    },
    {
      "cell_type": "code",
      "source": [
        "ll = [66, 44, 88, 54]\n",
        "for number in ll:\n",
        "  print(str(number)[0])"
      ],
      "metadata": {
        "colab": {
          "base_uri": "https://localhost:8080/"
        },
        "id": "s_0BlJgGeSPn",
        "outputId": "9bd1fa55-5399-405d-84bb-fdf10aea6410"
      },
      "execution_count": null,
      "outputs": [
        {
          "output_type": "stream",
          "name": "stdout",
          "text": [
            "6\n",
            "4\n",
            "8\n",
            "5\n"
          ]
        }
      ]
    },
    {
      "cell_type": "code",
      "source": [],
      "metadata": {
        "id": "n4dkQ5iKozjm"
      },
      "execution_count": null,
      "outputs": []
    },
    {
      "cell_type": "markdown",
      "source": [
        "https://developers.google.com/edu/python/"
      ],
      "metadata": {
        "id": "mBocv2gYOmZq"
      }
    },
    {
      "cell_type": "markdown",
      "source": [
        "# Strings"
      ],
      "metadata": {
        "id": "laOBiiVcBwwV"
      }
    },
    {
      "cell_type": "markdown",
      "source": [
        "Python has a built-in string class named \"str\" with many handy features.String literals can be enclosed by either double or single quotes, although single quotes are more commonly used. Backslash escapes work the usual way within both single and double quoted literals -- e.g. \\n \\' \\\". A double quoted string literal can contain single quotes without any fuss (e.g. \"I didn't do it\") and likewise single quoted string can contain double quotes. A string literal can span multiple lines, but there must be a backslash \\ at the end of each line to escape the newline. String literals inside triple quotes, \"\"\" or ''', can span multiple lines of text.\n",
        "\n",
        "Python strings are \"immutable\" which means they cannot be changed after they are created. Since strings can't be changed, we construct *new* strings as we go to represent computed values. So for example the expression ('hello' + 'there') takes in the 2 strings 'hello' and 'there' and builds a new string 'hellothere'.\n",
        "\n",
        "Characters in a string can be accessed using the standard [ ] syntax, and like Java and C++, Python uses zero-based indexing, so if s is 'hello' s[1] is 'e'. If the index is out of bounds for the string, Python raises an error. The Python style (unlike Perl) is to halt if it can't tell what to do, rather than just make up a default value. The handy \"slice\" syntax (below) also works to extract any substring from a string. The len(string) function returns the length of a string. The [ ] syntax and the len() function actually work on any sequence type -- strings, lists, etc.. Python tries to make its operations work consistently across different types. Python newbie gotcha: don't use \"len\" as a variable name to avoid blocking out the len() function. The '+' operator can concatenate two strings. Notice in the code below that variables are not pre-declared -- just assign to them and go."
      ],
      "metadata": {
        "id": "Mro965XYMuLJ"
      }
    },
    {
      "cell_type": "code",
      "source": [
        "d = 'Hell o_Daniel_and_Cheng     9           '\n",
        "print(d)"
      ],
      "metadata": {
        "colab": {
          "base_uri": "https://localhost:8080/"
        },
        "id": "YgvnwadQm2T_",
        "outputId": "3c8551ba-9328-4e5b-c123-f58aff1a0af2"
      },
      "execution_count": null,
      "outputs": [
        {
          "output_type": "stream",
          "name": "stdout",
          "text": [
            "Hell o_Daniel_and_Cheng     9           \n"
          ]
        }
      ]
    },
    {
      "cell_type": "code",
      "source": [
        "d[1:4]\n"
      ],
      "metadata": {
        "colab": {
          "base_uri": "https://localhost:8080/",
          "height": 37
        },
        "id": "0JzV7hWxnFob",
        "outputId": "0bf797e9-a5e9-48d9-d244-4fbe8da17c91"
      },
      "execution_count": null,
      "outputs": [
        {
          "output_type": "execute_result",
          "data": {
            "text/plain": [
              "'ell'"
            ],
            "application/vnd.google.colaboratory.intrinsic+json": {
              "type": "string"
            }
          },
          "metadata": {},
          "execution_count": 5
        }
      ]
    },
    {
      "cell_type": "code",
      "source": [
        "d[0:]"
      ],
      "metadata": {
        "colab": {
          "base_uri": "https://localhost:8080/",
          "height": 37
        },
        "id": "cZIzVyZcm7zt",
        "outputId": "8d04dc92-1a58-4292-d024-6e61fe1fefc1"
      },
      "execution_count": null,
      "outputs": [
        {
          "output_type": "execute_result",
          "data": {
            "text/plain": [
              "'Hell o_Daniel_and_Cheng     9           '"
            ],
            "application/vnd.google.colaboratory.intrinsic+json": {
              "type": "string"
            }
          },
          "metadata": {},
          "execution_count": 6
        }
      ]
    },
    {
      "cell_type": "code",
      "source": [
        "len(d)"
      ],
      "metadata": {
        "id": "rF_Zn-turPYx",
        "colab": {
          "base_uri": "https://localhost:8080/"
        },
        "outputId": "890828f2-8514-41f1-abee-a11e461c58e3"
      },
      "execution_count": null,
      "outputs": [
        {
          "output_type": "execute_result",
          "data": {
            "text/plain": [
              "40"
            ]
          },
          "metadata": {},
          "execution_count": 7
        }
      ]
    },
    {
      "cell_type": "code",
      "source": [
        "s = 'hi' # s is stand for hi\n",
        "print(s[1])          ## i\n",
        "print(len(s))        ## 2\n",
        "print(s + ' there')  ## hi there"
      ],
      "metadata": {
        "id": "lJLFPcxKBxH5",
        "colab": {
          "base_uri": "https://localhost:8080/"
        },
        "outputId": "5e81a3e9-87de-4a00-e413-36d965e815d8"
      },
      "execution_count": null,
      "outputs": [
        {
          "output_type": "stream",
          "name": "stdout",
          "text": [
            "i\n",
            "2\n",
            "hi there\n"
          ]
        }
      ]
    },
    {
      "cell_type": "code",
      "source": [
        "pi = 'The......'\n",
        "print(type(pi))\n",
        "##text = 'The value of pi is ' + pi      ## NO, does not work\n",
        "text = 'The value of pi is '  + str(pi)  ## yes\n",
        "\n",
        "print(text)"
      ],
      "metadata": {
        "colab": {
          "base_uri": "https://localhost:8080/"
        },
        "id": "9t5Ul1kUNPOf",
        "outputId": "b92bd3bc-13a0-4e9e-8add-6ad931e6640e"
      },
      "execution_count": null,
      "outputs": [
        {
          "output_type": "stream",
          "name": "stdout",
          "text": [
            "<class 'str'>\n",
            "The value of pi is The......\n"
          ]
        }
      ]
    },
    {
      "cell_type": "code",
      "source": [
        "raw = r'this\\t\\n and that'\n",
        "\n",
        "# this\\t\\n and that\n",
        "print(raw)\n",
        "print('this\\t\\n and that')\n",
        "multi = \"\"\"It was the best of times.\n",
        "It was the worst of times.\"\"\"\n",
        "\n",
        "# It was the best of times.\n",
        "#   It was the worst of times.\n",
        "print(multi)"
      ],
      "metadata": {
        "colab": {
          "base_uri": "https://localhost:8080/"
        },
        "id": "ih6ZzPBKru97",
        "outputId": "9cfe9f59-ebdc-45d4-b0a0-da6e464f9360"
      },
      "execution_count": null,
      "outputs": [
        {
          "output_type": "stream",
          "name": "stdout",
          "text": [
            "this\\t\\n and that\n",
            "this\t\n",
            " and that\n",
            "It was the best of times.\n",
            "It was the worst of times.\n"
          ]
        }
      ]
    },
    {
      "cell_type": "markdown",
      "source": [
        "⏰"
      ],
      "metadata": {
        "id": "uTuaNC-NR3Vv"
      }
    },
    {
      "cell_type": "code",
      "source": [
        "\n",
        "value = 2.791514\n",
        "print('approximate value = {value:.5f}')  # approximate value = 2.79\n",
        "print(f'approximate value = {value:.5f}')\n",
        "\n",
        "# Key: Value\n",
        "print('Hi')\n",
        "car = {'tires':4, 'doors':2} # tesla\n",
        "print(type(car))\n",
        "print(f'car = {car}') # car = {'tires': 4, 'doors': 2}"
      ],
      "metadata": {
        "colab": {
          "base_uri": "https://localhost:8080/"
        },
        "id": "2pY-UckanzNd",
        "outputId": "1515569b-a9c4-43b5-f078-f840336e1532"
      },
      "execution_count": null,
      "outputs": [
        {
          "output_type": "stream",
          "name": "stdout",
          "text": [
            "approximate value = {value:.5f}\n",
            "approximate value = 2.79151\n",
            "Hi\n",
            "<class 'dict'>\n",
            "car = {'tires': 4, 'doors': 2}\n"
          ]
        }
      ]
    },
    {
      "cell_type": "code",
      "source": [
        "name = 'TK'\n",
        "print('Hi name')\n",
        "print(f'Hi {name}')\n",
        "\n",
        "print('name is a cat')\n",
        "print(f'{name} is a cat')"
      ],
      "metadata": {
        "colab": {
          "base_uri": "https://localhost:8080/"
        },
        "id": "vP1jp5MgIXWS",
        "outputId": "e2731231-2478-43f5-c012-1cde6cc9c3c4"
      },
      "execution_count": null,
      "outputs": [
        {
          "output_type": "stream",
          "name": "stdout",
          "text": [
            "Hi name\n",
            "Hi TK\n",
            "name is a cat\n",
            "TK is a cat\n"
          ]
        }
      ]
    },
    {
      "cell_type": "markdown",
      "source": [
        "The \"print\" function normally prints out one or more python items followed by a newline. A \"raw\" string literal is prefixed by an 'r' and passes all the chars through without special treatment of backslashes, so r'x\\nx' evaluates to the length-4 string 'x\\nx'. \"print\" can take several arguments to change how it prints things out like setting \"end\" to \"\" to no longer print a newline after it finishes printing out all of the items. ⚾"
      ],
      "metadata": {
        "id": "WV4rjkZ7PB0d"
      }
    },
    {
      "cell_type": "code",
      "source": [
        "\n",
        "raw = r'this\\t\\n and that'\n",
        "\n",
        "# this\\t\\n and that\n",
        "print(raw)\n",
        "print('this\\t\\n and that')\n",
        "\n",
        "multi = \"I have a car and\\n a big bus in my room it was the best of times it was the \\nworst of times it was the worst of times.\"\n",
        "\n",
        "# It was the best of times.\n",
        "#   It was the worst of times.\n",
        "print(multi)"
      ],
      "metadata": {
        "colab": {
          "base_uri": "https://localhost:8080/"
        },
        "id": "4KQxy-iyNkbZ",
        "outputId": "91f2eb92-b1ef-4e45-b6a9-22c2692e53bf"
      },
      "execution_count": null,
      "outputs": [
        {
          "output_type": "stream",
          "name": "stdout",
          "text": [
            "this\\t\\n and that\n",
            "this\t\n",
            " and that\n",
            "I have a car and\n",
            " a big bus in my room it was the best of times it was the \n",
            "worst of times it was the worst of times.\n"
          ]
        }
      ]
    },
    {
      "cell_type": "code",
      "source": [
        "t = \"daniel\"\n",
        "t.lower()"
      ],
      "metadata": {
        "colab": {
          "base_uri": "https://localhost:8080/",
          "height": 57
        },
        "id": "KnOQhDypq1wl",
        "outputId": "364f6bf1-8978-4f29-966b-2ec0386f651a"
      },
      "execution_count": null,
      "outputs": [
        {
          "output_type": "execute_result",
          "data": {
            "text/plain": [
              "'daniel'"
            ],
            "application/vnd.google.colaboratory.intrinsic+json": {
              "type": "string"
            }
          },
          "metadata": {},
          "execution_count": 136
        }
      ]
    },
    {
      "cell_type": "code",
      "source": [
        "t.upper()"
      ],
      "metadata": {
        "colab": {
          "base_uri": "https://localhost:8080/",
          "height": 57
        },
        "id": "F6XdP1DerzIp",
        "outputId": "b6e930b0-2227-495c-e561-77557c04ee6e"
      },
      "execution_count": null,
      "outputs": [
        {
          "output_type": "execute_result",
          "data": {
            "text/plain": [
              "'DANIEL'"
            ],
            "application/vnd.google.colaboratory.intrinsic+json": {
              "type": "string"
            }
          },
          "metadata": {},
          "execution_count": 137
        }
      ]
    },
    {
      "cell_type": "code",
      "source": [
        "t = \"      I like Chocolate    \"\n",
        "t.strip()\n"
      ],
      "metadata": {
        "colab": {
          "base_uri": "https://localhost:8080/",
          "height": 57
        },
        "id": "aNOjb8Htsapk",
        "outputId": "240a8cfa-7c96-4613-fe56-384113fe0045"
      },
      "execution_count": null,
      "outputs": [
        {
          "output_type": "execute_result",
          "data": {
            "text/plain": [
              "'I like Chocolate'"
            ],
            "application/vnd.google.colaboratory.intrinsic+json": {
              "type": "string"
            }
          },
          "metadata": {},
          "execution_count": 138
        }
      ]
    },
    {
      "cell_type": "code",
      "source": [
        "t = \"wert\"\n",
        "print(t.isalpha())\n",
        "t = \" \"\n",
        "print(t.isalpha())"
      ],
      "metadata": {
        "colab": {
          "base_uri": "https://localhost:8080/"
        },
        "id": "WoFE9Jhktwyz",
        "outputId": "0d5f34fd-f6e3-4364-dbcf-9b9b9fa3518c"
      },
      "execution_count": null,
      "outputs": [
        {
          "output_type": "stream",
          "name": "stdout",
          "text": [
            "True\n",
            "False\n"
          ]
        }
      ]
    },
    {
      "cell_type": "code",
      "source": [
        "\n",
        "t = \"4\"\n",
        "print(t.isdigit())\n",
        "t = \"t5 \"\n",
        "print(t.isdigit())"
      ],
      "metadata": {
        "colab": {
          "base_uri": "https://localhost:8080/"
        },
        "id": "yPvDzA-RuoP1",
        "outputId": "0a09d4c8-6db2-4327-84fd-9058cde13e0b"
      },
      "execution_count": null,
      "outputs": [
        {
          "output_type": "stream",
          "name": "stdout",
          "text": [
            "True\n",
            "False\n"
          ]
        }
      ]
    },
    {
      "cell_type": "code",
      "source": [
        "t = \" \"\n",
        "t.isspace()"
      ],
      "metadata": {
        "colab": {
          "base_uri": "https://localhost:8080/"
        },
        "id": "fhyKMljivtHJ",
        "outputId": "5b8744b0-caaa-4c6d-abb9-c9687b5fa1cb"
      },
      "execution_count": null,
      "outputs": [
        {
          "output_type": "execute_result",
          "data": {
            "text/plain": [
              "True"
            ]
          },
          "metadata": {},
          "execution_count": 3
        }
      ]
    },
    {
      "cell_type": "code",
      "source": [
        "t = \"I like a lot of chocolate.\"\n",
        "print(t.startswith('I like a lot of chocolate.'))\n",
        "print(t.startswith(' '))"
      ],
      "metadata": {
        "colab": {
          "base_uri": "https://localhost:8080/"
        },
        "id": "xg9fcHYt0WjG",
        "outputId": "9c627c04-b839-4848-f3c1-373b9be82011"
      },
      "execution_count": null,
      "outputs": [
        {
          "output_type": "stream",
          "name": "stdout",
          "text": [
            "False\n",
            "True\n"
          ]
        }
      ]
    },
    {
      "cell_type": "code",
      "source": [
        "t = \"asdddddvb\"\n",
        "print(t.startswith('asd'))\n",
        "print(t.endswith('dvb'))"
      ],
      "metadata": {
        "colab": {
          "base_uri": "https://localhost:8080/"
        },
        "id": "PicQVVAzQsOo",
        "outputId": "d71ceb9e-0dc3-4729-911c-9773e8f3f4a5"
      },
      "execution_count": null,
      "outputs": [
        {
          "output_type": "stream",
          "name": "stdout",
          "text": [
            "True\n",
            "True\n"
          ]
        }
      ]
    },
    {
      "cell_type": "code",
      "source": [
        "print(t.endswith(' f'))\n",
        "print(t.endswith(' off'))"
      ],
      "metadata": {
        "colab": {
          "base_uri": "https://localhost:8080/"
        },
        "id": "AEBDXWBD1b0y",
        "outputId": "83f911f9-20ad-4ad9-999a-bc097bc6bc71"
      },
      "execution_count": null,
      "outputs": [
        {
          "output_type": "stream",
          "name": "stdout",
          "text": [
            "False\n",
            "True\n"
          ]
        }
      ]
    },
    {
      "cell_type": "code",
      "source": [
        "t = \"I like a lot of chocolate.\"\n",
        "\n",
        "print(t.find('off'))\n",
        "print(t.find('o'))\n",
        "print(t.find('on or off'))"
      ],
      "metadata": {
        "colab": {
          "base_uri": "https://localhost:8080/"
        },
        "id": "MH2SJe1Bt1dE",
        "outputId": "f6fccaa7-20a5-4306-c72b-c18745db4546"
      },
      "execution_count": null,
      "outputs": [
        {
          "output_type": "stream",
          "name": "stdout",
          "text": [
            "-1\n",
            "10\n",
            "-1\n"
          ]
        }
      ]
    },
    {
      "cell_type": "code",
      "source": [
        "t = 'Hi there!'\n",
        "\n",
        "print(t)\n",
        "print(t.replace('there', 'everyone'))\n",
        "print(t.replace('Hi', 'Go to'))\n",
        "print(t.replace('!','.'))"
      ],
      "metadata": {
        "colab": {
          "base_uri": "https://localhost:8080/"
        },
        "id": "X6NIbETauGFi",
        "outputId": "2b42dde2-010a-409b-c120-97c55e38cc6c"
      },
      "execution_count": null,
      "outputs": [
        {
          "output_type": "stream",
          "name": "stdout",
          "text": [
            "Hi there!\n",
            "Hi everyone!\n",
            "Go to there!\n",
            "Hi there.\n"
          ]
        }
      ]
    },
    {
      "cell_type": "code",
      "source": [
        "t = 'aaa,bbb,ccc,zzz'\n",
        "\n",
        "l = t.split(',')\n",
        "print(l)\n",
        "print(l[1:3])"
      ],
      "metadata": {
        "colab": {
          "base_uri": "https://localhost:8080/"
        },
        "id": "w1GX3I1kuTPS",
        "outputId": "0aa24dd4-1029-4cf6-9190-bef21f571da6"
      },
      "execution_count": null,
      "outputs": [
        {
          "output_type": "stream",
          "name": "stdout",
          "text": [
            "['aaa', 'bbb', 'ccc', 'zzz']\n",
            "['bbb', 'ccc']\n"
          ]
        }
      ]
    },
    {
      "cell_type": "code",
      "source": [
        "t = ' place + '\n",
        "t.join(['Frist', 'Second', 'Thrid', 'Forth'])"
      ],
      "metadata": {
        "colab": {
          "base_uri": "https://localhost:8080/",
          "height": 57
        },
        "id": "nIblGVrzuhag",
        "outputId": "34104e88-ac39-4eb9-9216-01afafb792fd"
      },
      "execution_count": null,
      "outputs": [
        {
          "output_type": "execute_result",
          "data": {
            "text/plain": [
              "'Frist place + Second place + Thrid place + Forth'"
            ],
            "application/vnd.google.colaboratory.intrinsic+json": {
              "type": "string"
            }
          },
          "metadata": {},
          "execution_count": 147
        }
      ]
    },
    {
      "cell_type": "code",
      "source": [
        "t = '0123456%%%%%789(10)(11)12131415161718192'\n",
        "print(t[1::7])"
      ],
      "metadata": {
        "id": "pem2nLKp3qdH",
        "colab": {
          "base_uri": "https://localhost:8080/"
        },
        "outputId": "560e8486-cd27-4885-8353-e132cf53e7c9"
      },
      "execution_count": null,
      "outputs": [
        {
          "output_type": "stream",
          "name": "stdout",
          "text": [
            "1%()18\n"
          ]
        }
      ]
    },
    {
      "cell_type": "markdown",
      "source": [
        "\n",
        "\n",
        "\n",
        "\n",
        "\n",
        "\n",
        "\n",
        "\n",
        "\n",
        "\n",
        "\n",
        "# List"
      ],
      "metadata": {
        "id": "Ux1D9CI-8avF"
      }
    },
    {
      "cell_type": "markdown",
      "source": [
        "Python has a great built-in list type named \"list\". List literals are written within square brackets [ ]. Lists work similarly to strings -- use the len() function and square brackets [ ] to access data, with the first element at index 0."
      ],
      "metadata": {
        "id": "LPzu5sxKMo64"
      }
    },
    {
      "cell_type": "code",
      "source": [
        "colors = ['red', 'blue', 'green', 'red']\n",
        "print(colors[0])    ## red\n",
        "print(colors[2])    ## green\n",
        "print(len(colors))  ## 3\n",
        "print(colors[-1])"
      ],
      "metadata": {
        "colab": {
          "base_uri": "https://localhost:8080/"
        },
        "id": "XuJ2alh_9sYv",
        "outputId": "5d465945-bb58-4188-d7cf-930ecbf8be0a"
      },
      "execution_count": null,
      "outputs": [
        {
          "output_type": "stream",
          "name": "stdout",
          "text": [
            "red\n",
            "green\n",
            "4\n",
            "red\n"
          ]
        }
      ]
    },
    {
      "cell_type": "markdown",
      "source": [
        "![image.png](data:image/png;base64,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)"
      ],
      "metadata": {
        "id": "NTFohjBK-MCO"
      }
    },
    {
      "cell_type": "markdown",
      "source": [
        "Assignment with an = on lists does not make a copy. Instead, assignment makes the two variables point to the one list in memory."
      ],
      "metadata": {
        "id": "_MkY6lAH-c-g"
      }
    },
    {
      "cell_type": "code",
      "source": [
        "b = colors   ## Does not copy the list"
      ],
      "metadata": {
        "id": "owrFIbAl-e_G"
      },
      "execution_count": null,
      "outputs": []
    },
    {
      "cell_type": "markdown",
      "source": [
        "![image.png](data:image/png;base64,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)"
      ],
      "metadata": {
        "id": "2N7HMc0e-elV"
      }
    },
    {
      "cell_type": "code",
      "source": [
        "happy_family = ['Daniel', 'Chloe', 'Max', 'Mom', 'Dad']\n",
        "print(happy_family)"
      ],
      "metadata": {
        "colab": {
          "base_uri": "https://localhost:8080/"
        },
        "id": "rdoMLB9rlWjE",
        "outputId": "d0b9f035-09db-4ff6-a654-7868f27f7f5e"
      },
      "execution_count": null,
      "outputs": [
        {
          "output_type": "stream",
          "name": "stdout",
          "text": [
            "['Daniel', 'Chloe', 'Max', 'Mom', 'Dad']\n"
          ]
        }
      ]
    },
    {
      "cell_type": "code",
      "source": [
        "print(happy_family[4])\n",
        "print(happy_family[-1])"
      ],
      "metadata": {
        "colab": {
          "base_uri": "https://localhost:8080/"
        },
        "id": "JCsWQVZLmc0j",
        "outputId": "84bbde0e-bb2b-4326-c73c-3e9fb1cbe019"
      },
      "execution_count": null,
      "outputs": [
        {
          "output_type": "stream",
          "name": "stdout",
          "text": [
            "Dad\n",
            "Dad\n"
          ]
        }
      ]
    },
    {
      "cell_type": "code",
      "source": [
        "happy_family.append('dog')\n",
        "happy_family.append('toy')\n",
        "happy_family.append('book')\n",
        "\n",
        "print(happy_family)"
      ],
      "metadata": {
        "colab": {
          "base_uri": "https://localhost:8080/"
        },
        "id": "lLxdVkoVnZoF",
        "outputId": "8f31498f-ba9c-465d-b438-5380cb070755"
      },
      "execution_count": null,
      "outputs": [
        {
          "output_type": "stream",
          "name": "stdout",
          "text": [
            "['Daniel', 'Chloe', 'Max', 'Mom', 'Dad', 'dog', 'toy', 'book']\n"
          ]
        }
      ]
    },
    {
      "cell_type": "code",
      "source": [
        "del happy_family[-1]\n",
        "print(happy_family)"
      ],
      "metadata": {
        "colab": {
          "base_uri": "https://localhost:8080/"
        },
        "id": "bb8BZI-qn9Fu",
        "outputId": "f94b2fb1-ca37-4ccf-ad18-3be50a4b105f"
      },
      "execution_count": null,
      "outputs": [
        {
          "output_type": "stream",
          "name": "stdout",
          "text": [
            "['Daniel', 'Chloe', 'Max', 'Mom', 'Dad', 'dog', 'toy']\n"
          ]
        }
      ]
    },
    {
      "cell_type": "code",
      "source": [
        "happy_family.remove('dog')\n",
        "print(happy_family)"
      ],
      "metadata": {
        "id": "pKcQZfbYodIv",
        "colab": {
          "base_uri": "https://localhost:8080/"
        },
        "outputId": "c5a3622a-d832-4522-9137-9cb5739999a7"
      },
      "execution_count": null,
      "outputs": [
        {
          "output_type": "stream",
          "name": "stdout",
          "text": [
            "['Daniel', 'Chloe', 'Max', 'Mom', 'Dad', 'toy']\n"
          ]
        }
      ]
    },
    {
      "cell_type": "code",
      "source": [
        "happy_family.append('dog')\n",
        "print(happy_family)"
      ],
      "metadata": {
        "colab": {
          "base_uri": "https://localhost:8080/"
        },
        "id": "7Fges8n6jnE5",
        "outputId": "51721ccb-45e2-4f2f-d0d8-631c72c9412d"
      },
      "execution_count": null,
      "outputs": [
        {
          "output_type": "stream",
          "name": "stdout",
          "text": [
            "['Daniel', 'Chloe', 'Max', 'Mom', 'Dad', 'toy', 'dog']\n"
          ]
        }
      ]
    },
    {
      "cell_type": "code",
      "source": [
        "happy_family.append(\"door stop\")\n",
        "print(happy_family)"
      ],
      "metadata": {
        "id": "rVMNs5W7kLyA",
        "colab": {
          "base_uri": "https://localhost:8080/"
        },
        "outputId": "69da1efb-ac9d-4bb9-966d-0c8d83576b15"
      },
      "execution_count": null,
      "outputs": [
        {
          "output_type": "stream",
          "name": "stdout",
          "text": [
            "['Daniel', 'Chloe', 'Max', 'Mom', 'Dad', 'toy', 'dog', 'door stop']\n"
          ]
        }
      ]
    },
    {
      "cell_type": "code",
      "source": [
        "print(\"Hi \" + happy_family[2])"
      ],
      "metadata": {
        "colab": {
          "base_uri": "https://localhost:8080/"
        },
        "id": "u0W7Xcxyk41Z",
        "outputId": "cd277f8b-2dad-432a-9c5e-055c1cfd4265"
      },
      "execution_count": null,
      "outputs": [
        {
          "output_type": "stream",
          "name": "stdout",
          "text": [
            "Hi Max\n"
          ]
        }
      ]
    },
    {
      "cell_type": "code",
      "source": [
        "for name in happy_family:\n",
        "  print('welcom ' + name)\n",
        "\n",
        "  if name == 'Daniel':\n",
        "    print(\"Let's go to the beach\")\n",
        "  elif name == 'Chloe':\n",
        "    print(\"Let's watch a moive\")\n",
        "  elif name == 'Max':\n",
        "    print(\"Let's play some games\")\n",
        "  elif name == 'Mom':\n",
        "    print(\"hi Mom\")"
      ],
      "metadata": {
        "colab": {
          "base_uri": "https://localhost:8080/"
        },
        "id": "lq2_Ktl_lx6k",
        "outputId": "3e8ab4eb-7907-48e6-ff05-75c4b6623ac0"
      },
      "execution_count": null,
      "outputs": [
        {
          "output_type": "stream",
          "name": "stdout",
          "text": [
            "welcom Daniel\n",
            "Let's go to the beach\n",
            "welcom Chloe\n",
            "Let's watch a moive\n",
            "welcom Max\n",
            "Let's play some games\n",
            "welcom Mom\n",
            "hi Mom\n",
            "welcom Dad\n",
            "welcom toy\n",
            "welcom dog\n",
            "welcom door stop\n"
          ]
        }
      ]
    },
    {
      "cell_type": "code",
      "source": [],
      "metadata": {
        "id": "vdW0SqVGmoSQ"
      },
      "execution_count": null,
      "outputs": []
    },
    {
      "cell_type": "code",
      "source": [],
      "metadata": {
        "id": "jO3TceR4o9iP"
      },
      "execution_count": null,
      "outputs": []
    },
    {
      "cell_type": "code",
      "source": [
        "Daniel"
      ],
      "metadata": {
        "id": "tZGpEECfpSnh",
        "colab": {
          "base_uri": "https://localhost:8080/",
          "height": 198
        },
        "outputId": "8f4daf76-4cdf-4d00-cbe3-50498de10958"
      },
      "execution_count": null,
      "outputs": [
        {
          "output_type": "error",
          "ename": "NameError",
          "evalue": "ignored",
          "traceback": [
            "\u001b[0;31m---------------------------------------------------------------------------\u001b[0m",
            "\u001b[0;31mNameError\u001b[0m                                 Traceback (most recent call last)",
            "\u001b[0;32m<ipython-input-52-a3fa1f4bd334>\u001b[0m in \u001b[0;36m<cell line: 1>\u001b[0;34m()\u001b[0m\n\u001b[0;32m----> 1\u001b[0;31m \u001b[0mDaniel\u001b[0m\u001b[0;34m\u001b[0m\u001b[0;34m\u001b[0m\u001b[0m\n\u001b[0m",
            "\u001b[0;31mNameError\u001b[0m: name 'Daniel' is not defined"
          ]
        }
      ]
    },
    {
      "cell_type": "code",
      "source": [],
      "metadata": {
        "id": "-VhuJCs7RU8P"
      },
      "execution_count": null,
      "outputs": []
    }
  ]
}