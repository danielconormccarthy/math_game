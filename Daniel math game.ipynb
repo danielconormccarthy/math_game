{
  "nbformat": 4,
  "nbformat_minor": 0,
  "metadata": {
    "colab": {
      "provenance": [],
      "authorship_tag": "ABX9TyO7GgW4DOgtlK+mT4D2Mt30",
      "include_colab_link": true
    },
    "kernelspec": {
      "name": "python3",
      "display_name": "Python 3"
    },
    "language_info": {
      "name": "python"
    }
  },
  "cells": [
    {
      "cell_type": "markdown",
      "metadata": {
        "id": "view-in-github",
        "colab_type": "text"
      },
      "source": [
        "<a href=\"https://colab.research.google.com/github/danielconormccarthy/first_project/blob/main/Daniel%20math%20game.ipynb\" target=\"_parent\"><img src=\"https://colab.research.google.com/assets/colab-badge.svg\" alt=\"Open In Colab\"/></a>"
      ]
    },
    {
      "cell_type": "code",
      "execution_count": null,
      "metadata": {
        "id": "HzwbTTIU1KNJ"
      },
      "outputs": [],
      "source": [
        "name=input('Your name: ')\n",
        "print(\"Hi \" + name + \". Welcom to Daniel's math GAME!\" )\n",
        "\n",
        "score = 0\n",
        "total_questions = 9\n",
        "\n",
        "answer = input(\"Do you want to play this game? (Yes/No): \")\n",
        "\n",
        "if answer.lower()=='yes':\n",
        "    answer=input('Question 1: 34 + 66 = ')\n",
        "    if answer == '100':\n",
        "        score += 1\n",
        "        # score = score + 1\n",
        "        print('correct')\n",
        "    else:\n",
        "        print('Wrong Answer :(')\n",
        "\n",
        "    answer=input('Question 2: 5 x 5 = ')\n",
        "    if answer == '25':\n",
        "        score += 1\n",
        "        print('correct')\n",
        "    else:\n",
        "        print('Wrong Answer :(')\n",
        "\n",
        "    answer=input('Question 3: 90 x 90 = ')\n",
        "    if answer == '8100':\n",
        "        score += 1\n",
        "        print('correct')\n",
        "    else:\n",
        "        print('Wrong Answer :(')\n",
        "\n",
        "    answer=input('Question 4: How many sides on a square: ')\n",
        "    if answer == \"4\":\n",
        "        score += 1\n",
        "        print('correct')\n",
        "    else:\n",
        "        print('Wrong Answer :(')\n",
        "\n",
        "    answer=input('Question 5: How many sides on a circle: ')\n",
        "    if answer == \"1\":\n",
        "        score += 1\n",
        "        print('correct 😊')\n",
        "    else:\n",
        "        print('Wrong Answer :(')\n",
        "\n",
        "\n",
        "    answer=input(\"Question 6: What is the country closest to Ireand? \")\n",
        "    if answer == \"UK\":\n",
        "        score += 1\n",
        "        print('correct')\n",
        "\n",
        "    elif answer == \"United Kingdom\":\n",
        "        score += 1\n",
        "        print('correct')\n",
        "\n",
        "    elif answer == \"United Kingdom of Great Britain and Northern Ireland\":\n",
        "        score += 1\n",
        "        print('correct')\n",
        "\n",
        "    elif answer == \"Great Britain\":\n",
        "        score += 1\n",
        "        print('correct')\n",
        "    else:\n",
        "        print('Wrong Answer :(')\n",
        "\n",
        "    answer=input('Question 7: 0.50 ± 0.50 = ')\n",
        "    if answer == \"1\" or answer == \"0\":\n",
        "        score += 1\n",
        "        print('correct 😊')\n",
        "    else:\n",
        "        print('Wrong Answer :(')\n",
        "\n",
        "    answer=input('Question 8: 5 ± 1 = ')\n",
        "    if answer == \"6\":\n",
        "        score += 1\n",
        "        print('correct 😊')\n",
        "    elif answer == '4':\n",
        "        score += 1\n",
        "        print('correct 😊')\n",
        "    else:\n",
        "        print('Wrong Answer :(')\n",
        "\n",
        "    print(name + ', thank you for Playing Daniel\\'s math GAME.')\n",
        "    mark=(score/total_questions)*100\n",
        "    print('Marks obtained:', int(mark))\n",
        "print('BYE!')"
      ]
    }
  ]
}